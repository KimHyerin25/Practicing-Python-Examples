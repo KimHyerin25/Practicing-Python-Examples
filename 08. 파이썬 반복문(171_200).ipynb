{
 "cells": [
  {
   "cell_type": "markdown",
   "id": "6d4d79ec",
   "metadata": {},
   "source": [
    "171 아래와 같이 리스트의 데이터를 출력하라. 단, for문과 range문을 사용하라.\n",
    "\n",
    "> price_list = [32100, 32150, 32000, 32500]\n",
    "\n",
    "> 32100   \n",
    "32150   \n",
    "32000   \n",
    "32500       "
   ]
  },
  {
   "cell_type": "code",
   "execution_count": 9,
   "id": "9e752d4d",
   "metadata": {},
   "outputs": [
    {
     "name": "stdout",
     "output_type": "stream",
     "text": [
      "32100\n",
      "32150\n",
      "32000\n",
      "32500\n"
     ]
    }
   ],
   "source": [
    "price_list = [32100, 32150, 32000, 32500]\n",
    "\n",
    "for i in range(0,4):\n",
    "    print(price_list[i])"
   ]
  },
  {
   "cell_type": "markdown",
   "id": "34f2e84e",
   "metadata": {},
   "source": [
    "172 아래와 같이 리스트의 데이터를 출력하라. 단, for문과 range문을 사용하라.\n",
    "\n",
    "> price_list = [32100, 32150, 32000, 32500]\n",
    "\n",
    "> 0 32100   \n",
    "1 32150      \n",
    "2 32000   \n",
    "3 32500   "
   ]
  },
  {
   "cell_type": "code",
   "execution_count": 10,
   "id": "8e51dc5c",
   "metadata": {},
   "outputs": [
    {
     "name": "stdout",
     "output_type": "stream",
     "text": [
      "0 32100\n",
      "1 32150\n",
      "2 32000\n",
      "3 32500\n"
     ]
    }
   ],
   "source": [
    "for i in range(0,4):\n",
    "    print(i, price_list[i])"
   ]
  },
  {
   "cell_type": "markdown",
   "id": "52fbdd51",
   "metadata": {},
   "source": [
    "173 아래와 같이 리스트의 데이터를 출력하라. 단, for문과 range문을 사용하라.\n",
    "\n",
    "> price_list = [32100, 32150, 32000, 32500]\n",
    "\n",
    "> 3 32100   \n",
    "2 32150   \n",
    "1 32000   \n",
    "0 32500   "
   ]
  },
  {
   "cell_type": "code",
   "execution_count": 11,
   "id": "c316b948",
   "metadata": {},
   "outputs": [
    {
     "name": "stdout",
     "output_type": "stream",
     "text": [
      "3 32100\n",
      "2 32150\n",
      "1 32000\n",
      "0 32500\n"
     ]
    }
   ],
   "source": [
    "for i in range(0,4):\n",
    "    print(3-i, price_list[i])"
   ]
  },
  {
   "cell_type": "markdown",
   "id": "e386446c",
   "metadata": {},
   "source": [
    "174 아래와 같이 리스트의 데이터를 출력하라. 단, for문과 range문을 사용하라.\n",
    "\n",
    "> price_list = [32100, 32150, 32000, 32500]\n",
    "\n",
    "> 100 32150   \n",
    "110 32000   \n",
    "120 32500   "
   ]
  },
  {
   "cell_type": "code",
   "execution_count": 15,
   "id": "6fd450e0",
   "metadata": {},
   "outputs": [
    {
     "name": "stdout",
     "output_type": "stream",
     "text": [
      "100 32150\n",
      "110 32000\n",
      "120 32500\n"
     ]
    }
   ],
   "source": [
    "for i in range(1,4):\n",
    "    print(10*i+90, price_list[i])"
   ]
  },
  {
   "cell_type": "markdown",
   "id": "2541f84f",
   "metadata": {},
   "source": [
    "175 my_list를 아래와 같이 출력하라.\n",
    "\n",
    "> my_list = [\"가\", \"나\", \"다\", \"라\"]\n",
    "\n",
    "> 가 나   \n",
    "나 다   \n",
    "다 라   "
   ]
  },
  {
   "cell_type": "code",
   "execution_count": 16,
   "id": "440a342d",
   "metadata": {},
   "outputs": [
    {
     "name": "stdout",
     "output_type": "stream",
     "text": [
      "가 나\n",
      "나 다\n",
      "다 라\n"
     ]
    }
   ],
   "source": [
    "my_list = [\"가\", \"나\", \"다\", \"라\"]\n",
    "\n",
    "for i in range(0,3):\n",
    "    print(my_list[i], my_list[i+1]"
   ]
  },
  {
   "cell_type": "markdown",
   "id": "946eee37",
   "metadata": {},
   "source": [
    "176 리스트를 아래와 같이 출력하라.\n",
    "\n",
    "> my_list = [\"가\", \"나\", \"다\", \"라\", \"마\"]\n",
    "\n",
    "> 가 나 다   \n",
    "나 다 라    \n",
    "다 라 마   "
   ]
  },
  {
   "cell_type": "code",
   "execution_count": 25,
   "id": "94e67fb3",
   "metadata": {},
   "outputs": [
    {
     "name": "stdout",
     "output_type": "stream",
     "text": [
      "가 나 다\n",
      "나 다 라\n",
      "다 라 마\n"
     ]
    }
   ],
   "source": [
    "my_list = [\"가\", \"나\", \"다\", \"라\", \"마\"]\n",
    "for i in [0, 1, 2]:\n",
    "    print(my_list[i], my_list[i+1], my_list[i+2])"
   ]
  },
  {
   "cell_type": "markdown",
   "id": "86404c7d",
   "metadata": {},
   "source": [
    "177 반복문과 range 함수를 사용해서 my_list를 아래와 같이 출력하라.\n",
    "\n",
    "> my_list = [\"가\", \"나\", \"다\", \"라\"]\n",
    "\n",
    "> 라 다   \n",
    "다 나   \n",
    "나 가   "
   ]
  },
  {
   "cell_type": "code",
   "execution_count": null,
   "id": "02fd8677",
   "metadata": {},
   "outputs": [],
   "source": []
  },
  {
   "cell_type": "code",
   "execution_count": null,
   "id": "b98bd2e8",
   "metadata": {},
   "outputs": [],
   "source": []
  },
  {
   "cell_type": "code",
   "execution_count": null,
   "id": "b2f1bf34",
   "metadata": {},
   "outputs": [],
   "source": []
  },
  {
   "cell_type": "code",
   "execution_count": null,
   "id": "8a2afbda",
   "metadata": {},
   "outputs": [],
   "source": []
  },
  {
   "cell_type": "code",
   "execution_count": null,
   "id": "4076a819",
   "metadata": {},
   "outputs": [],
   "source": []
  },
  {
   "cell_type": "code",
   "execution_count": null,
   "id": "70a0317c",
   "metadata": {},
   "outputs": [],
   "source": []
  },
  {
   "cell_type": "code",
   "execution_count": null,
   "id": "0d79dade",
   "metadata": {},
   "outputs": [],
   "source": []
  },
  {
   "cell_type": "code",
   "execution_count": null,
   "id": "9188bedf",
   "metadata": {},
   "outputs": [],
   "source": []
  }
 ],
 "metadata": {
  "kernelspec": {
   "display_name": "Python 3",
   "language": "python",
   "name": "python3"
  },
  "language_info": {
   "codemirror_mode": {
    "name": "ipython",
    "version": 3
   },
   "file_extension": ".py",
   "mimetype": "text/x-python",
   "name": "python",
   "nbconvert_exporter": "python",
   "pygments_lexer": "ipython3",
   "version": "3.8.8"
  }
 },
 "nbformat": 4,
 "nbformat_minor": 5
}
